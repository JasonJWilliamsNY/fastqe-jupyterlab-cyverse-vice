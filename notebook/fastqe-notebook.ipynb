{
 "cells": [
  {
   "cell_type": "markdown",
   "metadata": {},
   "source": [
    "# Fun Introductory Command Line Exercise: Next Generation Sequencing (NGS) Quality Analysis with Emoji\n"
   ]
  },
  {
   "cell_type": "markdown",
   "metadata": {},
   "source": [
    "\\* this activity was adapted from code and slides developed by Andrew Lonsdale ([@LonsBio](https://twitter.com/lonsbio?lang=en)) at Melbourne University. Here’s a [link](https://www.youtube.com/watch?v=WywQ6a3uQ5I&feature=youtu.be&t=33m18s) to a Lightning Talk that Andrew gave in 2017 about FASTQE."
   ]
  },
  {
   "cell_type": "markdown",
   "metadata": {},
   "source": [
    "**Goals**: Use basic command line coding to:\n",
    "- Introduce students to writing basic command line scripts\n",
    "- Analyze & assess the quality of FASTQ formatted NGS data\n",
    "- Trim/filter low quality reads in FASTQ files \n"
   ]
  },
  {
   "cell_type": "markdown",
   "metadata": {},
   "source": [
    "The 1st step of any Next Generation Sequencing (NGS) analysis pipeline is checking the quality of the raw sequencing reads in each FASTQ formatted file. If the sequence quality is poor, then your resulting downstream analysis will be inaccurate and misleading. FastQC is a popular software used to provide an overview of basic quality metrics for NGS data. In this lesson, you will use an even more universal form of communication to analyze FASTQ files, THE EMOJI 😻😻😻."
   ]
  },
  {
   "cell_type": "markdown",
   "metadata": {},
   "source": [
    "**Technical requirements/limitations**: \n",
    "\n",
    "- The software can be installed on computers running Mac OS or Linux. Windows does not support the use of emoticons 😟😱😿.  - If using your own Mac computer, you need to install Anaconda on your machine (see pre-class assignment https://bit.ly/2RxKApp; ~20 min to install). Anaconda is a Python-based data processing & scientific computing platform with built in third-party libraries. \n",
    "\n",
    "- Lastly, the FASTQE program is limited to short read NGS data of 500bp or less.\n"
   ]
  },
  {
   "cell_type": "markdown",
   "metadata": {},
   "source": [
    "Like the popular FastQC software, FASTQE can be used to analyze the quality of FASTQ file data whether it’s from a genome sequencing project, an RNA-seq project, a ChIP-seq project, etc. Here’s a brief background on the in class metagenomics project that Dr. Enke’s Bio 481 Genomics class is collecting data for. Garter snakes excrete sexually dimorphic pheromones to attract a mate. The hypothesis of their experiment is that male and female garter snakes host unique microbial communities in their mouths, cloacae and musk glands that contribute to sexually dimorphic bioengineering of these pheromone molecules. Figure 1 provides an overview of their 16S metagenomics analysis pipeline. For this lesson though, all you need are the FASTQ files. Feel free to substitute your own favorite FASTQ files for this activity if you like.  "
   ]
  },
  {
   "cell_type": "markdown",
   "metadata": {},
   "source": [
    "![figure1](./img/figure1.png)"
   ]
  },
  {
   "cell_type": "markdown",
   "metadata": {},
   "source": [
    "Figure 1. Overview of the in class metagenomics project. Using a saline swabbing technique, microbial samples were collected from garter snake tissues in class (A). Swabs were placed in sterile tubes to release collected microbes & DNA was extracted for downstream analysis (B). Barcoded primers were used to PCR amplify the microbial 16S ribosomal DNA repeat genes for each sample followed by Illumina sequencing of PCR amplicons (C-D). The DNA Subway Purple Line web-based software can be used to analyze FASTQ data files generated from Illumina sequencing to reveal the microbial population of our swabs (E). Garter snakes were provided by Dr. Rocky Parker in the JMU Department of Biology (A; yellow shirt). \n"
   ]
  },
  {
   "cell_type": "markdown",
   "metadata": {},
   "source": [
    "As previously discussed, FASTQE is a program that analyzes FASTQ files & reads out an emoji output as an indicator of the sequence’s quality in the file. So a high quality read may look like this 😃, while this symbol 💩 indicates... well you get the idea. \n"
   ]
  },
  {
   "cell_type": "markdown",
   "metadata": {},
   "source": [
    "In class Assignment: Working in your lab groups, take turns operating the command line to analyze NGS fastq file data using FASTQE and another program called FASTP. All of the instructions & explanations are listed below. Create a new MS Word or GoogleDoc file and provide feedback wherever you see red text. If you get stuck, ask for help! Turn in this document at the end of the activity for your group’s graded assignment. Make sure to rotate turns typing commands. \n"
   ]
  },
  {
   "cell_type": "markdown",
   "metadata": {},
   "source": [
    "## Student #1 Download FastQ files and run `fastqe`\n",
    "Jupyter allows you to run commands by selecting a cell and then click the play button or Cntrl+Enter. For example running the next cell executes the `pwd` (print working directory) command, which will tell you what directory this notebok is located in."
   ]
  },
  {
   "cell_type": "code",
   "execution_count": 18,
   "metadata": {},
   "outputs": [
    {
     "name": "stdout",
     "output_type": "stream",
     "text": [
      "/home/jovyan/test\n"
     ]
    }
   ],
   "source": [
    "pwd"
   ]
  },
  {
   "cell_type": "markdown",
   "metadata": {},
   "source": [
    "### Question 1: If you’ve printed a path that doesn’t make sense (i.e. the directory you navigated to is the incorrect directory) how would you go back to the previous directory? (hint, it includes the change directory command)\n",
    "\n",
    "- Hint, type your commands in the cell below to see how the `cd` (change directory) command works. \n"
   ]
  },
  {
   "cell_type": "code",
   "execution_count": null,
   "metadata": {},
   "outputs": [],
   "source": []
  },
  {
   "cell_type": "markdown",
   "metadata": {},
   "source": [
    "## Answer to question 1: (Double click on this cell to edit)\n",
    "\n",
    "Your answer...(Run this cell [play button] or Cntrl+Enter to render this cell in Markdown)"
   ]
  },
  {
   "cell_type": "markdown",
   "metadata": {},
   "source": [
    "### Step 1\n",
    "\n",
    "Using the `wget` command, download the compressed fastq file here: https://bit.ly/2FbODRS (this is 1 file with the .zip extension that unzips into 2 .fastq files). \n",
    "\n",
    "**NOTE THIS URL WILL HAVE TO BE FIXED - I IMPORTED THESE FILES FOR THE SAKE OF TESTING**\n",
    "\n",
    "The `wget` command we will use has three components\n",
    "\n",
    "**Usage**: wget -O [filename][URL]\n",
    "\n",
    "- `wget` the name of the program \n",
    "- `-O` the `-O` is an option we can pass to the `wget` program, this option let's us choose the name we want our file to be saved as, in this case `fastq.zip`. \n",
    "- URL in this the URL you want to download a file from\n",
    "\n",
    "Type `wget` then a space, `-O fastq.zip` then the URL you are downloading from"
   ]
  },
  {
   "cell_type": "code",
   "execution_count": 19,
   "metadata": {},
   "outputs": [
    {
     "name": "stdout",
     "output_type": "stream",
     "text": [
      "--2020-04-07 16:20:33--  https://bit.ly/2FbODRS\n",
      "Resolving bit.ly (bit.ly)... 67.199.248.10, 67.199.248.11\n",
      "Connecting to bit.ly (bit.ly)|67.199.248.10|:443... connected.\n",
      "HTTP request sent, awaiting response... 301 Moved Permanently\n",
      "Location: https://drive.google.com/file/d/1OF7gfMlZoL8h2jL50bY7IsdTo2-FjtrJ/view?usp=sharing [following]\n",
      "--2020-04-07 16:20:34--  https://drive.google.com/file/d/1OF7gfMlZoL8h2jL50bY7IsdTo2-FjtrJ/view?usp=sharing\n",
      "Resolving drive.google.com (drive.google.com)... 172.217.12.206, 2607:f8b0:4006:81b::200e\n",
      "Connecting to drive.google.com (drive.google.com)|172.217.12.206|:443... connected.\n",
      "HTTP request sent, awaiting response... 200 OK\n",
      "Length: unspecified [text/html]\n",
      "Saving to: ‘fastq.zip’\n",
      "\n",
      "fastq.zip               [   <=>              ]  67.85K   156KB/s    in 0.4s    \n",
      "\n",
      "2020-04-07 16:20:34 (156 KB/s) - ‘fastq.zip’ saved [69478]\n",
      "\n"
     ]
    }
   ],
   "source": [
    "wget -O fastq.zip https://bit.ly/2FbODRS"
   ]
  },
  {
   "cell_type": "markdown",
   "metadata": {},
   "source": [
    "### Step 2\n",
    "\n",
    "In the next cell, use the `unzip` command to unzip the downloaded `fastq.zip`\n",
    "\n",
    "**Usage**: `unzip` [file to unzip]"
   ]
  },
  {
   "cell_type": "code",
   "execution_count": 7,
   "metadata": {},
   "outputs": [
    {
     "name": "stdout",
     "output_type": "stream",
     "text": [
      "Archive:  fastq.zip\n",
      "  inflating: female_musk2.fastq      \n",
      "  inflating: female_oral2.fastq      \n"
     ]
    }
   ],
   "source": [
    "unzip fastq.zip"
   ]
  },
  {
   "cell_type": "markdown",
   "metadata": {},
   "source": [
    "## Question 2: What’s the purpose of using a zipped file?"
   ]
  },
  {
   "cell_type": "markdown",
   "metadata": {},
   "source": [
    "## Answer to question 2: (Double click on this cell to edit)\n",
    "\n",
    "Your answer...(Run this cell [play button] or Cntrl+Enter to render this cell in Markdown)"
   ]
  },
  {
   "cell_type": "markdown",
   "metadata": {},
   "source": [
    "### Step 3\n",
    "\n",
    "In the next cell, use the `ls` (list files) command to verify you have unziped two files: `female_musk2.fastq` and `female_oral2.fastq` \n",
    "\n",
    "**Usage**: `ls` [directory] (list contents of a directory - if left blank, will display for the current directory, if a wildcard [e.g. \\*.file-extension] is provided, will list all the files with the given file extension)\n",
    "\n",
    "Use the command `ls` but pass `*.fastq` to directory"
   ]
  },
  {
   "cell_type": "code",
   "execution_count": 11,
   "metadata": {},
   "outputs": [
    {
     "name": "stdout",
     "output_type": "stream",
     "text": [
      "\u001b[0m\u001b[01;32mfemale_musk2.fastq\u001b[0m  \u001b[01;32mfemale_oral2.fastq\u001b[0m\n"
     ]
    }
   ],
   "source": [
    "ls *.fastq"
   ]
  },
  {
   "cell_type": "markdown",
   "metadata": {},
   "source": [
    "### Step 4\n",
    "\n",
    "In the next cell, run the `fastqe` program to generate your emoji fastq report\n",
    "\n",
    "**Usage**: `fastqe` [fastq-file] (run the `fastqe` program. If a wildcard [e.g. \\*.fastq] is provided, `fastqe` will run on  all the fastq files in the current working directory.  "
   ]
  },
  {
   "cell_type": "code",
   "execution_count": 20,
   "metadata": {},
   "outputs": [
    {
     "name": "stdout",
     "output_type": "stream",
     "text": [
      "female_musk2.fastq\tmean\t😁 😁 😁 😁 😉 😁 😁 😁 😉 😉 😁 😁 😁 😁 😁 😁 😁 😁 😁 😉 😉 😉 😉 😉 😉 😉 😁 😁 😉 😉 😉 😉 😉 😉 😁 😉 😉 😉 😉 😉 😉 😉 😉 😉 😉 😜 😉 😉 😉 😉 😉 😉 😉 😉 😉 😉 😉 😉 😉 😉 😉 😉 😉 😉 😉 😉 😉 😉 😉 😉 😛 😛 😜 😉 😉 😉 😉 😉 😉 😉 😉 😉 😉 😉 😉 😉 😉 😉 😉 😉 😉 😜 😜 😉 😉 😉 😉 😉 😉 😉 😜 😜 😉 😝 😄 😆 😆 😘 😆 😆 😆 😘 😆 😘 😘 😘 😘 😆 😘 😘 😃 😘 😘 😃 😃 😃 😃 😘 😃 😃 😘 😘 😘 😘 😃 😃 😃 😃 😘 😃 😃 😃 😃 😃 😃 😃 😃 😃 😃 😃 😃 😃 😃 😃 😃 😃 😃 😃 😚 😚 😚 😃 😃 😃 😚 😚 😃 😚 😚 😚 😃 😃 😃 😃 😚 😃 😚 😚 😚 😃 😚 😃 😃 😚 😚 😚 😚 😚 😚 😚 😚 😚 😚 😗 😗 😚 😚 😚 😚 😚 😚 😗 😗 😚 😚 😚 😚 😚 😚 😚 😚 😗 😗 😗 😗 😗 😗 😗 😗 😗 😗 😙 😙 😗 😗 😗 😗 😗 😗 😗 😗 😗 😗 😙 😙 😙 😙 😙 😙 😙 😙 😊 😏 😏 😊 😙 😙 😊 😏 😏 😏 😏 😏 😏 😏 😅 😏 😀 😏 😊 😊 😊 😀 😅 😀 😅 😅 😀 😅 😅 😏 😅 😅 😅 😅 😅 😅 😅 😅 😅 😅 😀 😅 😅 😀 ⚠️ 😀 😀 😀 ⚠️ 😀 😀 😀 ⚠️ ⚠️ 🔥\n",
      "female_oral2.fastq\tmean\t😁 😁 😁 😁 😁 😁 😁 😁 😁 😁 😁 😁 😁 😁 😁 😁 😁 😁 😁 😁 😁 😉 😁 😉 😉 😉 😉 😉 😉 😉 😉 😁 😉 😉 😉 😉 😉 😁 😉 😉 😉 😉 😁 😉 😉 😉 😉 😉 😉 😉 😉 😉 😉 😉 😉 😉 😉 😉 😉 😉 😉 😉 😉 😉 😉 😉 😉 😉 😉 😉 😉 😛 😝 😜 😉 😉 😉 😉 😉 😉 😉 😉 😉 😉 😉 😉 😉 😉 😉 😉 😉 😜 😉 😉 😉 😉 😉 😉 😉 😉 😉 😉 😉 😜 😝 😆 😃 😃 😚 😚 😚 😗 😗 😗 😗 😗 😗 😗 😗 😗 😗 😙 😙 😙 😙 😙 😙 😙 😙 😙 😊 😊 😊 😊 😙 😙 😊 😊 😙 😊 😙 😊 😊 😊 😊 😙 😙 😊 😙 😊 😙 😊 😊 😊 😊 😊 😊 😊 😊 😊 😊 😊 😊 😊 😊 😊 😊 😊 😊 😏 😏 😊 😊 😊 😏 😊 😊 😏 😏 😏 😊 😊 😏 😏 😏 😏 😏 😏 😏 😏 😏 😏 😏 😏 😏 😏 😏 😏 😏 😏 😏 😏 😏 😏 😏 😏 😏 😏 😏 😏 😏 😅 😅 😅 😏 😏 😏 😏 😏 😅 😅 😅 😅 😅 😅 😅 😏 😅 😅 😅 😅 😅 😅 😀 😀 😀 😅 😅 😅 😀 😀 😀 ⚠️ 😀 😀 😀 😀 😀 ⚠️ ⚠️ ⚠️ ⚠️ ⚠️ ⚠️ ⚠️ ⚠️ ⚠️ 💩 ⚠️ ⚠️ ⚠️ ⚠️ 💩 💩 💩 ⚠️ 💩 💩 💩 💩 ⚠️ 💩 😡 💩 💩 💩 💩 💩 😡 💩 💩 💩 💩 💩 😡 😡 💩 😡 😡 😡 😡 😡 😡 😡 😡 😿\n"
     ]
    }
   ],
   "source": [
    "fastqe *.fastq"
   ]
  },
  {
   "cell_type": "markdown",
   "metadata": {},
   "source": [
    "## Question 3: What are the advantages and disadvantages to using the command fastqe *.fastq rather than fastqe sample.fastq?\n"
   ]
  },
  {
   "cell_type": "markdown",
   "metadata": {},
   "source": [
    "## Answer to question 3: (Double click on this cell to edit)\n",
    "\n",
    "Your answer...(Run this cell [play button] or Cntrl+Enter to render this cell in Markdown)"
   ]
  },
  {
   "cell_type": "markdown",
   "metadata": {},
   "source": [
    "## Student #2 `fastqe` help "
   ]
  },
  {
   "cell_type": "markdown",
   "metadata": {},
   "source": [
    "Notice that 1 of your files (female_oral2) seems to have lower quality than the other based on the Emoji readout. Let’s look more closely to see how bad the data is. "
   ]
  },
  {
   "cell_type": "markdown",
   "metadata": {},
   "source": [
    "### Step 5\n",
    "\n",
    "Open the FASTQE help page to view the “optional arguments”, these are all of the options and setting for the program. \n",
    "\n",
    "To get the help info for `fastqe` (and many other command line programs) pass the `--help` option to the `fastqe` program instead of a filename or wildcard (as in step 5)"
   ]
  },
  {
   "cell_type": "code",
   "execution_count": 15,
   "metadata": {},
   "outputs": [
    {
     "name": "stdout",
     "output_type": "stream",
     "text": [
      "usage: fastqe [-h] [--minlen N] [--version] [--mean] [--bin] [--min] [--max]\n",
      "              [--log LOG_FILE] [--scale]\n",
      "              [FASTA_FILE [FASTA_FILE ...]]\n",
      "\n",
      "Read one or more FASTQ files, compute quality stats for each file, print as\n",
      "emoji... for some reason.\n",
      "\n",
      "positional arguments:\n",
      "  FASTA_FILE      Input FASTQ files\n",
      "\n",
      "optional arguments:\n",
      "  -h, --help      show this help message and exit\n",
      "  --minlen N      Minimum length sequence to include in stats (default 0)\n",
      "  --version       show program's version number and exit\n",
      "  --mean          show mean quality per position (DEFAULT)\n",
      "  --bin           use binned scores\n",
      "  --min           show minimum quality per position\n",
      "  --max           show maximum quality per position\n",
      "  --log LOG_FILE  record program progress in LOG_FILE\n",
      "  --scale         show relevant scale in output\n"
     ]
    }
   ],
   "source": [
    "fastqe --help"
   ]
  },
  {
   "cell_type": "markdown",
   "metadata": {},
   "source": [
    "## Question 4: Which optional argument will show the version # of FASTQE?\n"
   ]
  },
  {
   "cell_type": "markdown",
   "metadata": {},
   "source": [
    "## Answer to question 4: (Double click on this cell to edit)\n",
    "\n",
    "Your answer...(Run this cell [play button] or Cntrl+Enter to render this cell in Markdown)"
   ]
  },
  {
   "cell_type": "markdown",
   "metadata": {},
   "source": [
    "### Step 6\n",
    "\n",
    "Add the `--scale` option to the `fastqe` command to view the Phred score associated with each emoji in your output. Try this just for the `female_oral2` file."
   ]
  },
  {
   "cell_type": "code",
   "execution_count": 17,
   "metadata": {},
   "outputs": [
    {
     "name": "stdout",
     "output_type": "stream",
     "text": [
      "#scale for fastqe\n",
      "#  0 ! 🚫\n",
      "#  1 \" ❌\n",
      "#  2 # 👺\n",
      "#  3 $ 💔\n",
      "#  4 % 🙅\n",
      "#  5 & 👾\n",
      "#  6 ' 👿\n",
      "#  7 ( 💀\n",
      "#  8 ) 👻\n",
      "#  9 * 🙈\n",
      "#  10 + 🙉\n",
      "#  11 , 🙊\n",
      "#  12 - 🐵\n",
      "#  13 . 😿\n",
      "#  14 / 😾\n",
      "#  15 0 🙀\n",
      "#  16 1 💣\n",
      "#  17 2 🔥\n",
      "#  18 3 😡\n",
      "#  19 4 💩\n",
      "#  20 5 ⚠️\n",
      "#  21 6 😀\n",
      "#  22 7 😅\n",
      "#  23 8 😏\n",
      "#  24 9 😊\n",
      "#  25 : 😙\n",
      "#  26 ; 😗\n",
      "#  27 < 😚\n",
      "#  28 = 😃\n",
      "#  29 > 😘\n",
      "#  30 ? 😆\n",
      "#  31 @ 😄\n",
      "#  32 A 😋\n",
      "#  33 B ☺️\n",
      "#  34 C 😝\n",
      "#  35 D 😛\n",
      "#  36 E 😜\n",
      "#  37 F 😉\n",
      "#  38 G 😁\n",
      "#  39 H 😄\n",
      "#  40 I 😎\n",
      "#  41 J 😍\n",
      "#  42 K 😍\n",
      "#  43 L 😍\n",
      "#  44 M 😍\n",
      "#  45 N 😍\n",
      "#  46 O 😍\n",
      "#  47 P 😍\n",
      "#  48 Q 😍\n",
      "#  49 R 😍\n",
      "#  50 S 😍\n",
      "#  51 T 😍\n",
      "#  52 U 😍\n",
      "#  53 V 😍\n",
      "#  54 W 😍\n",
      "#  55 X 😍\n",
      "#  56 Y 😍\n",
      "#  57 Z 😍\n",
      "#  58 [ 😍\n",
      "#  59 \\ 😍\n",
      "#  60 ] 😍\n",
      "#  61 ^ 😍\n",
      "#  62 _ 😍\n",
      "#  63 ` 😍\n",
      "#  64 a 😍\n",
      "#  65 b 😍\n",
      "#  66 c 😍\n",
      "#  67 d 😍\n",
      "#  68 e 😍\n",
      "#  69 f 😍\n",
      "#  70 g 😍\n",
      "#  71 h 😍\n",
      "#  72 i 😍\n",
      "#  73 j 😍\n",
      "#  74 k 😍\n",
      "#  75 l 😍\n",
      "#  76 m 😍\n",
      "#  77 n 😍\n",
      "#  78 o 😍\n",
      "#  79 p 😍\n",
      "#  80 q 😍\n",
      "#  81 r 😍\n",
      "#  82 s 😍\n",
      "#  83 t 😍\n",
      "#  84 u 😍\n",
      "#  85 v 😍\n",
      "#  86 w 😍\n",
      "#  87 x 😍\n",
      "#  88 y 😍\n",
      "#  89 z 😍\n",
      "#  90 { 😍\n",
      "#  91 | 😍\n",
      "#  92 } 😍\n",
      "#  93 ~ 😍\n",
      "female_oral2.fastq\tmean\t😁 😁 😁 😁 😁 😁 😁 😁 😁 😁 😁 😁 😁 😁 😁 😁 😁 😁 😁 😁 😁 😉 😁 😉 😉 😉 😉 😉 😉 😉 😉 😁 😉 😉 😉 😉 😉 😁 😉 😉 😉 😉 😁 😉 😉 😉 😉 😉 😉 😉 😉 😉 😉 😉 😉 😉 😉 😉 😉 😉 😉 😉 😉 😉 😉 😉 😉 😉 😉 😉 😉 😛 😝 😜 😉 😉 😉 😉 😉 😉 😉 😉 😉 😉 😉 😉 😉 😉 😉 😉 😉 😜 😉 😉 😉 😉 😉 😉 😉 😉 😉 😉 😉 😜 😝 😆 😃 😃 😚 😚 😚 😗 😗 😗 😗 😗 😗 😗 😗 😗 😗 😙 😙 😙 😙 😙 😙 😙 😙 😙 😊 😊 😊 😊 😙 😙 😊 😊 😙 😊 😙 😊 😊 😊 😊 😙 😙 😊 😙 😊 😙 😊 😊 😊 😊 😊 😊 😊 😊 😊 😊 😊 😊 😊 😊 😊 😊 😊 😊 😏 😏 😊 😊 😊 😏 😊 😊 😏 😏 😏 😊 😊 😏 😏 😏 😏 😏 😏 😏 😏 😏 😏 😏 😏 😏 😏 😏 😏 😏 😏 😏 😏 😏 😏 😏 😏 😏 😏 😏 😏 😏 😅 😅 😅 😏 😏 😏 😏 😏 😅 😅 😅 😅 😅 😅 😅 😏 😅 😅 😅 😅 😅 😅 😀 😀 😀 😅 😅 😅 😀 😀 😀 ⚠️ 😀 😀 😀 😀 😀 ⚠️ ⚠️ ⚠️ ⚠️ ⚠️ ⚠️ ⚠️ ⚠️ ⚠️ 💩 ⚠️ ⚠️ ⚠️ ⚠️ 💩 💩 💩 ⚠️ 💩 💩 💩 💩 ⚠️ 💩 😡 💩 💩 💩 💩 💩 😡 💩 💩 💩 💩 💩 😡 😡 💩 😡 😡 😡 😡 😡 😡 😡 😡 😿\n"
     ]
    }
   ],
   "source": [
    "fastqe --scale female_oral2.fastq"
   ]
  },
  {
   "cell_type": "markdown",
   "metadata": {},
   "source": [
    "## Question 5: Phred score of ≤20 is considered a poor quality base call. How many poor quality base calls are at the 3’ end of this read?\n",
    "\n"
   ]
  },
  {
   "cell_type": "markdown",
   "metadata": {},
   "source": [
    "## Answer to question 5: (Double click on this cell to edit)\n",
    "\n",
    "Your answer...(Run this cell [play button] or Cntrl+Enter to render this cell in Markdown)"
   ]
  },
  {
   "cell_type": "markdown",
   "metadata": {},
   "source": [
    "## Student #3 `fastp`  "
   ]
  },
  {
   "cell_type": "markdown",
   "metadata": {},
   "source": [
    "Let’s use another program called Fastp to get a more conventional readout of the .fastq file data. Fastp is similar to the FastQC program we previously used, however, it also has a trimming tool to cut out or filtering the low quality sequences in our file.\n"
   ]
  },
  {
   "cell_type": "markdown",
   "metadata": {},
   "source": [
    "### Step 7\n",
    "\n",
    "Run `fastp` on the lower quality `female_oral2.fastq` file\n",
    "\n",
    "**Usage**: \n",
    "\n",
    "- `fastp` is the name of software that will check the quality of the fastq file\n",
    "- `-i [input.fastq]` -i option specifies the input file for `fastp`\n",
    "- `-o [ouput.fastq]` -o option specifies the ouput file for `fastp`\n",
    "\n",
    "Write a command using `female_oral2.fastq` as your input and `out.female_oral2.fastq` as your output\n"
   ]
  },
  {
   "cell_type": "code",
   "execution_count": 21,
   "metadata": {},
   "outputs": [
    {
     "name": "stdout",
     "output_type": "stream",
     "text": [
      "Detecting adapter sequence for read1...\n",
      "No adapter detected for read1\n",
      "\n",
      "Read1 before filtering:\n",
      "total reads: 812\n",
      "total bases: 240352\n",
      "Q20 bases: 159694(66.4417%)\n",
      "Q30 bases: 144450(60.0994%)\n",
      "\n",
      "Read1 after filtering:\n",
      "total reads: 383\n",
      "total bases: 113368\n",
      "Q20 bases: 106263(93.7328%)\n",
      "Q30 bases: 98853(87.1966%)\n",
      "\n",
      "Filtering result:\n",
      "reads passed filter: 383\n",
      "reads failed due to low quality: 428\n",
      "reads failed due to too many N: 1\n",
      "reads failed due to too short: 0\n",
      "reads with adapter trimmed: 0\n",
      "bases trimmed due to adapters: 0\n",
      "\n",
      "Duplication rate (may be overestimated since this is SE data): 0%\n",
      "\n",
      "JSON report: fastp.json\n",
      "HTML report: fastp.html\n",
      "\n",
      "fastp -i female_oral2.fastq -o out.female_oral2.fastq \n",
      "fastp v0.20.1, time used: 3 seconds\n"
     ]
    }
   ],
   "source": [
    "fastp -i female_oral2.fastq -o out.female_oral2.fastq"
   ]
  },
  {
   "cell_type": "markdown",
   "metadata": {},
   "source": [
    "## Step 8\n",
    "\n",
    "You should now have 3 new files in your fastp folder\n",
    "\n",
    "1. .html file (this is your QC report)\n",
    "2. .json file (ignore this for now)\n",
    "3. trimmed fastq file (out.female_oral2.fastq)\n",
    "\n",
    "Click on the `fastp.html` file in the Jupyter menu on the left to examine this report\n",
    "\n",
    "**Note**: Click on **Trust HTML** on the top of the HTML report tab to reveal graphs that may be hidden until you provide this authorization. \n"
   ]
  },
  {
   "cell_type": "markdown",
   "metadata": {},
   "source": [
    "## Question 6: From the “Summary” data in your HTML fastp report, how many reads are in this FASTQ file before and after filtering? \n",
    "\n"
   ]
  },
  {
   "cell_type": "markdown",
   "metadata": {},
   "source": [
    "## Answer to question 6: (Double click on this cell to edit)\n",
    "\n",
    "Your answer...(Run this cell [play button] or Cntrl+Enter to render this cell in Markdown)"
   ]
  },
  {
   "cell_type": "markdown",
   "metadata": {},
   "source": [
    "## Question 7: How do the before and after plots compare?\n"
   ]
  },
  {
   "cell_type": "markdown",
   "metadata": {},
   "source": [
    "## Answer to question 7: (Double click on this cell to edit)\n",
    "\n",
    "Your answer...(Run this cell [play button] or Cntrl+Enter to render this cell in Markdown)"
   ]
  },
  {
   "cell_type": "markdown",
   "metadata": {},
   "source": [
    "## Step 9\n",
    "\n",
    "\n",
    "Use the `out.female_oral2.fastq` file to rerun `fastqe`"
   ]
  },
  {
   "cell_type": "code",
   "execution_count": 23,
   "metadata": {},
   "outputs": [
    {
     "name": "stdout",
     "output_type": "stream",
     "text": [
      "out.female_oral2.fastq\tmean\t😁 😁 😁 😁 😁 😁 😁 😁 😁 😁 😁 😁 😁 😁 😁 😁 😁 😁 😁 😁 😁 😉 😉 😉 😉 😉 😉 😉 😉 😉 😉 😁 😉 😉 😉 😉 😉 😉 😉 😉 😉 😁 😁 😉 😉 😉 😉 😉 😉 😉 😉 😉 😉 😉 😉 😉 😉 😉 😉 😉 😉 😉 😉 😉 😉 😉 😉 😉 😉 😉 😉 😉 😉 😉 😉 😉 😉 😉 😉 😉 😉 😉 😉 😉 😉 😉 😉 😉 😉 😉 😉 😜 😉 😉 😉 😉 😉 😉 😉 😉 😉 😉 😉 😉 😉 😜 😜 😉 😉 😜 😉 😜 😜 😜 😜 😜 😜 😜 😜 😜 😜 😜 😉 😜 😜 😜 😜 😉 😜 😜 😜 😜 😜 😜 😜 😜 😜 😜 😜 😜 😜 😜 😜 😜 😜 😜 😜 😜 😜 😜 😜 😜 😜 😜 😜 😜 😜 😜 😜 😜 😜 😜 😜 😜 😜 😜 😜 😛 😜 😛 😛 😜 😜 😜 😜 😜 😜 😛 😛 😜 😛 😜 😛 😛 😛 😛 😛 😛 😛 😛 😛 😛 😛 😛 😛 😛 😛 😛 😛 😛 😛 😛 😛 😜 😛 😛 😛 😛 😛 😛 😛 😛 😝 😝 😛 😛 😛 😛 😛 😛 😛 😝 😝 😝 😝 😛 😛 😝 😝 😝 😝 😝 ☺️ ☺️ ☺️ ☺️ ☺️ ☺️ 😝 ☺️ ☺️ 😋 😄 😋 😋 ☺️ 😋 😋 😄 😄 😄 😄 😄 😄 😄 😆 😄 😘 😆 😄 😋 😄 😘 😘 😘 😆 😆 😆 😘 😘 😆 😆 😃 😘 😘 😘 😘 😘 😘 😘 😃 😘 😘 😘 😃 😃 😘 😘 😘 😃 😘 😃 😃 😚 😃 😡\n"
     ]
    }
   ],
   "source": [
    "fastqe out.female_oral2.fastq"
   ]
  },
  {
   "cell_type": "markdown",
   "metadata": {},
   "source": [
    "## Question 8: How do the before and after plots compare?\n"
   ]
  },
  {
   "cell_type": "markdown",
   "metadata": {},
   "source": [
    "## Answer to question 8: (Double click on this cell to edit)\n",
    "\n",
    "Your answer...(Run this cell [play button] or Cntrl+Enter to render this cell in Markdown)"
   ]
  },
  {
   "cell_type": "markdown",
   "metadata": {},
   "source": [
    "## Question 9: Which tool (fastqe or fastp) did you find easier to use?\n"
   ]
  },
  {
   "cell_type": "markdown",
   "metadata": {},
   "source": [
    "## Answer to question 9: (Double click on this cell to edit)\n",
    "\n",
    "Your answer...(Run this cell [play button] or Cntrl+Enter to render this cell in Markdown)"
   ]
  },
  {
   "cell_type": "markdown",
   "metadata": {},
   "source": [
    "## Question 10: Which tool (fastqe or fastp) do you think is more a more reliable research grade tool?\n"
   ]
  },
  {
   "cell_type": "markdown",
   "metadata": {},
   "source": [
    "## Answer to question 10: (Double click on this cell to edit)\n",
    "\n",
    "Your answer...(Run this cell [play button] or Cntrl+Enter to render this cell in Markdown)"
   ]
  },
  {
   "cell_type": "markdown",
   "metadata": {},
   "source": [
    "To sum up, you just analyzed Illumina FASTQ data quality using Emoji output. You then filtered out low quality sequences & output before & after QC plots. You did all of that on the command line, congrats!\n"
   ]
  }
 ],
 "metadata": {
  "kernelspec": {
   "display_name": "Bash",
   "language": "bash",
   "name": "bash"
  },
  "language_info": {
   "codemirror_mode": "shell",
   "file_extension": ".sh",
   "mimetype": "text/x-sh",
   "name": "bash"
  }
 },
 "nbformat": 4,
 "nbformat_minor": 4
}
